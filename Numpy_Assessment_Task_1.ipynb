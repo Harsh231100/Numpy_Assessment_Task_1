{
 "cells": [
  {
   "cell_type": "code",
   "execution_count": 33,
   "id": "aa82d5b9",
   "metadata": {},
   "outputs": [],
   "source": [
    "import numpy as np"
   ]
  },
  {
   "cell_type": "markdown",
   "id": "b45ef805",
   "metadata": {},
   "source": [
    "### 1. Write a function, foo_1, that takes a NumPy array `arr` and returns the indices of the elements that are closest to a given target. If target is not in the given array, it should return ‘no item found’\n"
   ]
  },
  {
   "cell_type": "code",
   "execution_count": 56,
   "id": "fc8c9bdb",
   "metadata": {},
   "outputs": [
    {
     "name": "stdout",
     "output_type": "stream",
     "text": [
      "[2 3 4 5 6 8]\n"
     ]
    }
   ],
   "source": [
    "def foo_1(arr, target):\n",
    "    if target not in arr:\n",
    "        return 'no item found'\n",
    "\n",
    "    differences = np.abs(arr-target)\n",
    "\n",
    "    closest = np.where(differences == np.min(differences))[0]\n",
    "\n",
    "    return closest\n",
    "\n",
    "arr = np.array([3, 8, 7, 7, 7, 7, 7, 8, 7, 10])\n",
    "target = 7\n",
    "print(foo_1(arr, target))"
   ]
  },
  {
   "cell_type": "code",
   "execution_count": 41,
   "id": "7a263415",
   "metadata": {},
   "outputs": [
    {
     "name": "stdout",
     "output_type": "stream",
     "text": [
      "no item found\n"
     ]
    }
   ],
   "source": [
    "arr = np.array([3, 8, 7, 7, 7, 7, 7, 8, 7, 10])\n",
    "target = 11\n",
    "print(foo_1(arr, target))"
   ]
  },
  {
   "cell_type": "markdown",
   "id": "29db94f5",
   "metadata": {},
   "source": [
    "### 2. Write a user defined function foo_2 that takes a 1 or 2 dim NumPy array arr and returns a new n-1 dim array, where each element is replaced by the count of non-zero elements wrt axis."
   ]
  },
  {
   "cell_type": "code",
   "execution_count": 48,
   "id": "4385e36b",
   "metadata": {},
   "outputs": [
    {
     "name": "stdout",
     "output_type": "stream",
     "text": [
      "[4 1 2]\n"
     ]
    }
   ],
   "source": [
    "def foo_2(arr, axis):\n",
    "    non_zero = np.count_nonzero(arr, axis)\n",
    "\n",
    "    return non_zero\n",
    "\n",
    "arr = np.array([[1, 2, 3, 4],\n",
    "                [0, 5, 0, 0],\n",
    "                [2, 0, 1, 0]])\n",
    "\n",
    "result = foo_2(arr, axis=1)\n",
    "print(result)"
   ]
  },
  {
   "cell_type": "code",
   "execution_count": 46,
   "id": "089196e0",
   "metadata": {},
   "outputs": [
    {
     "name": "stdout",
     "output_type": "stream",
     "text": [
      "[2 2 2 1]\n"
     ]
    }
   ],
   "source": [
    "def foo_2(arr, axis):\n",
    "    non_zero = np.count_nonzero(arr, axis)\n",
    "\n",
    "    return non_zero\n",
    "\n",
    "arr = np.array([[1, 2, 3, 4],\n",
    "                [0, 5, 0, 0],\n",
    "                [2, 0, 1, 0]])\n",
    "\n",
    "result = foo_2(arr, axis=0)\n",
    "print(result)"
   ]
  },
  {
   "cell_type": "code",
   "execution_count": 114,
   "id": "65f4d5f0",
   "metadata": {},
   "outputs": [
    {
     "name": "stdout",
     "output_type": "stream",
     "text": [
      "[[2 1 2 1]\n",
      " [0 2 0 0]\n",
      " [2 1 2 1]]\n"
     ]
    }
   ],
   "source": [
    "def foo_2(arr, axis):\n",
    "    non_zero = np.count_nonzero(arr, axis=axis)\n",
    "\n",
    "    return non_zero\n",
    "\n",
    "arr1 = np.array([[[1, 2, 3, 4],\n",
    "                  [0, 5, 0, 0],\n",
    "                  [2, 0, 1, 0]],\n",
    "\n",
    "                 [[2, 0, 1, 0],\n",
    "                  [0, 5, 0, 0],\n",
    "                  [1, 2, 3, 4]]])\n",
    "\n",
    "result = foo_2(arr1, axis=0)\n",
    "print(result)"
   ]
  },
  {
   "cell_type": "code",
   "execution_count": 115,
   "id": "fd1a5a65",
   "metadata": {},
   "outputs": [
    {
     "name": "stdout",
     "output_type": "stream",
     "text": [
      "[[2 2 2 1]\n",
      " [2 2 2 1]]\n"
     ]
    }
   ],
   "source": [
    "def foo_2(arr, axis):\n",
    "    non_zero = np.count_nonzero(arr, axis=axis)\n",
    "\n",
    "    return non_zero\n",
    "\n",
    "arr1 = np.array([[[1, 2, 3, 4],\n",
    "                  [0, 5, 0, 0],\n",
    "                  [2, 0, 1, 0]],\n",
    "\n",
    "                 [[2, 0, 1, 0],\n",
    "                  [0, 5, 0, 0],\n",
    "                  [1, 2, 3, 4]]])\n",
    "\n",
    "result = foo_2(arr1, axis=1)\n",
    "print(result)"
   ]
  },
  {
   "cell_type": "code",
   "execution_count": 116,
   "id": "ba4f6c39",
   "metadata": {},
   "outputs": [
    {
     "name": "stdout",
     "output_type": "stream",
     "text": [
      "[[4 1 2]\n",
      " [2 1 4]]\n"
     ]
    }
   ],
   "source": [
    "def foo_2(arr, axis):\n",
    "    non_zero = np.count_nonzero(arr, axis=axis)\n",
    "\n",
    "    return non_zero\n",
    "\n",
    "arr1 = np.array([[[1, 2, 3, 4],\n",
    "                  [0, 5, 0, 0],\n",
    "                  [2, 0, 1, 0]],\n",
    "\n",
    "                 [[2, 0, 1, 0],\n",
    "                  [0, 5, 0, 0],\n",
    "                  [1, 2, 3, 4]]])\n",
    "\n",
    "result = foo_2(arr1, axis=2)\n",
    "print(result)"
   ]
  },
  {
   "cell_type": "markdown",
   "id": "93863365",
   "metadata": {},
   "source": [
    "### 3.1 You are given a 2D NumPy array of data representing student scores. Each row represents a student, and each column represents a subject. Extract the scores of all students who scored above 90 in at least one subject. Provide the resulting array."
   ]
  },
  {
   "cell_type": "code",
   "execution_count": 122,
   "id": "823b81c8",
   "metadata": {},
   "outputs": [
    {
     "name": "stdout",
     "output_type": "stream",
     "text": [
      "[[91 94 80]\n",
      " [85 93 66]\n",
      " [67 80 73]\n",
      " [96 83 70]]\n",
      "Resulting Array: \n",
      "[[91 94 80]\n",
      " [85 93 66]\n",
      " [96 83 70]]\n"
     ]
    }
   ],
   "source": [
    "student_scores = np.random.randint(60,100,(4,3))\n",
    "print(student_scores)\n",
    "\n",
    "above_90_mask = np.any(student_scores > 90, axis=1)\n",
    "resulting_array = student_scores[above_90_mask]\n",
    "\n",
    "print('Resulting Array: ')\n",
    "print(resulting_array)"
   ]
  },
  {
   "cell_type": "markdown",
   "id": "5768a3ce",
   "metadata": {},
   "source": [
    "### 3.2 You are provided with a 2D NumPy array of data representing sales data for different products. Each row corresponds to a product, and each column represents the monthly sales for a specific month. Calculate the following statistics for each product: mean, median, standard deviation, and the month with the highest sales."
   ]
  },
  {
   "cell_type": "code",
   "execution_count": 76,
   "id": "c9a3f9d4",
   "metadata": {},
   "outputs": [
    {
     "name": "stdout",
     "output_type": "stream",
     "text": [
      "[[199 342 261 251]\n",
      " [ 94 242 171 158]\n",
      " [303 292 234 184]\n",
      " [346 299 165 328]]\n",
      "Product 1:\n",
      "Mean: 263.25\n",
      "Median: 256.0\n",
      "Standard Deviation: 51.197534120307004\n",
      "Month with the highest sales: Month 2\n",
      "\n",
      "Product 2:\n",
      "Mean: 166.25\n",
      "Median: 164.5\n",
      "Standard Deviation: 52.55651719815536\n",
      "Month with the highest sales: Month 2\n",
      "\n",
      "Product 3:\n",
      "Mean: 253.25\n",
      "Median: 263.0\n",
      "Standard Deviation: 47.80886424084973\n",
      "Month with the highest sales: Month 1\n",
      "\n",
      "Product 4:\n",
      "Mean: 284.5\n",
      "Median: 313.5\n",
      "Standard Deviation: 71.00176054155277\n",
      "Month with the highest sales: Month 1\n",
      "\n"
     ]
    }
   ],
   "source": [
    "sales_data = np.random.randint(90,350,(4,4))\n",
    "print(sales_data)\n",
    "\n",
    "mean_values = np.mean(sales_data, axis=1)\n",
    "\n",
    "median_values = np.median(sales_data, axis=1)\n",
    "\n",
    "standard_deviation_values = np.std(sales_data, axis=1)\n",
    "\n",
    "best_month_sales = np.argmax(sales_data, axis=1)\n",
    "\n",
    "for i in range(len(mean_values)):\n",
    "    print(f\"Product {i+1}:\")\n",
    "    print(f\"Mean: {mean_values[i]}\")\n",
    "    print(f\"Median: {median_values[i]}\")\n",
    "    print(f\"Standard Deviation: {standard_deviation_values[i]}\")\n",
    "    print(f\"Month with the highest sales: Month {best_month_sales[i] + 1}\")\n",
    "    print()"
   ]
  },
  {
   "cell_type": "markdown",
   "id": "75a65b1a",
   "metadata": {},
   "source": [
    "### 3.3 Create a NumPy array of size 1000 with random integers between 1 and 100. Then, use NumPy functions to find the top 10 most frequently occurring values in the array.\n"
   ]
  },
  {
   "cell_type": "code",
   "execution_count": 140,
   "id": "f94984ea",
   "metadata": {},
   "outputs": [
    {
     "name": "stdout",
     "output_type": "stream",
     "text": [
      "[ 94  23  93  91  75   1  46  18  35  15  74  14  31  11  33  12  40  98\n",
      "  96  86  57  70  94  19  91  28  33   8  72  91  87 100  19  28  31  80\n",
      "  90   5  69  44  79  94  98  39  90  86  80  85  30  65  95  83  51  33\n",
      "  71  94  70   4  53  87  60  79  41  59  48  67  91  59  98  29  92   4\n",
      "  41  42  26  61  36  61  18  45  57  32  86  94  63  91  71  11  52  55\n",
      "  45  12  49  30  90  47   6  49  43  43  60  96  28  66  65  91   9  24\n",
      "  49  16  28  47   3  49  83  76  82  69  74  69   6  12  63  75  84  75\n",
      "  77  80  13  55  25  59  30  63  44  66  31  81   8  54  94   5  24  35\n",
      "  67  67  54  81  82  88  85  41  42  30  27  74  68  98  24  85  28  12\n",
      "  77  44  52  17  54  84  34  52  51  70  95  99  40  92  24   5  95  78\n",
      "   3  81  46  87  84  61   3  25  32   4  55  94  31  82  77  60  53  36\n",
      "   1  95  66  74  66   8  72  29  48   7  95  35  84  84  78   9  40  96\n",
      "  24  85  96  19   8  15  36  77  50  24  63  30  87  83  66  55  54  18\n",
      "  70   8  20  21  69  66  48  53   3  77  52   7   8  80   6   2  27  84\n",
      "  49  39  95  56  72  82  18  21  19  68  94  49  50  95  11  61 100  19\n",
      "  86  35  56  47  78  39  38  73  66   9  31  73  97   8  24  38  94  22\n",
      "  67  65  47  28  77  54  65  37  26  76  73  56  18  97  93  34  57  79\n",
      "   7  61  32  85  47   7  15  62  43  26  52  91  39  99   6  34  95  57\n",
      "   8   6  44  28  64  54  93  36   1   4  14  46  45  32  10  64  69  83\n",
      "  94  40  42  38  29  66  74  97  91  42  38  32  68  87  75   5  67  32\n",
      "  15  76  19  98  33  63  37  88  82  18   5  36  75  28  44  94  67  59\n",
      "  98  60  79  27  40  89  65  61   8  40  52  70  30  65  35  29  71  21\n",
      "  95  77  71  13  80  50  80  84   8  62  47  52  71  72  55  65   1  18\n",
      "  42   1  12  36  22  25  62  52  45  66  65  16  12  76  28  70  19  85\n",
      "  32  70  13  87  93  18  79  42  47  95  87  81  89  68  19  47  58  34\n",
      "  14   9  85  96  57   6  33  99  58  28  11  64  36  11  77  33   1  85\n",
      "  92  33  29  80  28  98  89  26  96  82  37  49   7  22  74   3 100  44\n",
      "  89  84  87   7  52  76  71  37  61  22  85  24  84   1  40  35  64  66\n",
      "  83  66  64  43   5  35  28  89  19  68  47  18  32  38  82  41  31 100\n",
      "  58  82  87  32  16  18   2  79  98  25  92   1  88  73  43  85  91  34\n",
      "  99  15  10  87   3  55   2  76  50  86  18  85  81  28  30  93  50  50\n",
      "   3  46  63  70  55   1  74  26  52  74  70  83  73  47   8  62  12  78\n",
      "  15  34  85  49  80  44  33  26  83  34  31   2  17  51   9  23  32   3\n",
      "  79  30  93  65  59  62  74  36   8  39 100  58   8  92  90   3   9  90\n",
      "  98  15  57   6  58   4  70  43  38  61   6  66  20  89  43  22  74   5\n",
      "  58 100  35   5  56  66   4  67  58  50  89  18   9  72  99   8  22   3\n",
      "  98  15  25  72   2  85  74  20   8  10  80  33  38  15  55  24  39  90\n",
      "  58  82  19  98  47  41   6  38   4  39  77  69  34  33  96  19  90  70\n",
      "  12  77  31  84  85  14  94  29  55  71   8  80  67  75   7  87  45  89\n",
      "  76  77   8  42   2  15  21  93  57  39  56  33   2  68  86  92   7  12\n",
      "  34  15  33  26  39  68  52  15   3  27  48  60  93  38  32  72  78  72\n",
      "  97  56  90   5  68  36  29  12  83  14  19  81  54  42  82  73  94  26\n",
      "  34  83  54   1  48  62   3   6 100  33  81  38  15  74  69  57  51  84\n",
      "  10  56  39  20  84  59  90  58  96  82  56  34  37  35  60  53  77  84\n",
      "  85  18  60  90  79  76  58  37  76  87  83  83   5  17  86  99  38  97\n",
      "  12  47  40  59  87  47  51  63  78  63  74  37  43  72  33  53  97  75\n",
      "  56  45  34  93  48  82  74  93  10 100  37   5  83  59  66  45  73  19\n",
      "  90  30  33  12  53  48  33  75  21  96  75  91  70  72  85  93  35  72\n",
      "  60  83  89  28  20  98  19  29  78  49   5 100  70  86  31  58  77  85\n",
      "  47  45  64  94   7  25  41  44  92  12  12   6  34  13  98  75  86  39\n",
      "  50   1  95  33  73  78  32  19  60  47  83  82  70  98  24  91  29  88\n",
      "  99  39  97  62  70  52  18  22  38  11  51  58  97  35  35  53  88  52\n",
      "   1  58  65  62  69  31  23  95  20  21  26  36  54  12  79  59  74  41\n",
      "  90  17  89  90  36  48  96  76  92   1  76  87  31  65  34  43  61  42\n",
      "  85  81  87  68  26  72  12   5  93  23   6  61  30  90  36  27  26  96\n",
      "  37  81  44  58  14  97   3   5  44  96]\n",
      "Top 10 most frequently occurring values:\n",
      "85: 18 occurrences\n",
      "8: 17 occurrences\n",
      "33: 17 occurrences\n",
      "12: 16 occurrences\n",
      "70: 15 occurrences\n",
      "47: 15 occurrences\n",
      "19: 15 occurrences\n",
      "87: 15 occurrences\n",
      "74: 15 occurrences\n",
      "66: 14 occurrences\n"
     ]
    }
   ],
   "source": [
    "random_array = np.random.randint(1, 101, size=1000)\n",
    "print(random_array)\n",
    "\n",
    "unique_values, counts = np.unique(random_array, return_counts=1)\n",
    "\n",
    "sorted_indices = np.argsort(counts)[::-1]\n",
    "\n",
    "top_values = unique_values[sorted_indices[:10]]\n",
    "top_counts = counts[sorted_indices[:10]]\n",
    "\n",
    "print(\"Top 10 most frequently occurring values:\")\n",
    "for value, count in zip(top_values, top_counts):\n",
    "    print(f\"{value}: {count} occurrences\")"
   ]
  }
 ],
 "metadata": {
  "kernelspec": {
   "display_name": "Python 3 (ipykernel)",
   "language": "python",
   "name": "python3"
  },
  "language_info": {
   "codemirror_mode": {
    "name": "ipython",
    "version": 3
   },
   "file_extension": ".py",
   "mimetype": "text/x-python",
   "name": "python",
   "nbconvert_exporter": "python",
   "pygments_lexer": "ipython3",
   "version": "3.11.5"
  }
 },
 "nbformat": 4,
 "nbformat_minor": 5
}
